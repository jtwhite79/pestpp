{
 "cells": [
  {
   "cell_type": "markdown",
   "id": "984af293",
   "metadata": {},
   "source": [
    "# Speeding Up the Search for \"Compromise Solutions\" Before It's Too Late\n",
    "### A walk through on Surrogate-Assisted MOO (SAMOO)\n",
    "\n",
    "Now that we know Pareto optimality and that there's a tool to efficiently perform MOO, we have to face another problem: \n",
    "\n",
    "For this tutorial, we will still be using the Fonseca-Fleming problem."
   ]
  },
  {
   "cell_type": "code",
   "execution_count": 1,
   "id": "da493aaa",
   "metadata": {},
   "outputs": [],
   "source": [
    "import os\n",
    "import sys\n",
    "import shutil\n",
    "import pandas as pd\n",
    "import numpy as np\n",
    "import matplotlib.pyplot as plt\n",
    "import pyemu\n"
   ]
  },
  {
   "cell_type": "markdown",
   "id": "e0cbfbc2",
   "metadata": {},
   "source": [
    "Let us first generate the template files we need for this tutorial."
   ]
  },
  {
   "cell_type": "code",
   "execution_count": 2,
   "id": "5bef47db",
   "metadata": {},
   "outputs": [
    {
     "data": {
      "text/plain": [
       "'fonseca_fleming_demo'"
      ]
     },
     "execution_count": 2,
     "metadata": {},
     "output_type": "execute_result"
    }
   ],
   "source": [
    "base_d = \"./Part1_base_files\"\n",
    "assert os.path.exists(base_d)\n",
    "\n",
    "temp_d = \"fonseca_fleming_demo\"\n",
    "if os.path.exists(temp_d):\n",
    "    shutil.rmtree(temp_d)\n",
    "shutil.copytree(base_d,temp_d)"
   ]
  },
  {
   "cell_type": "markdown",
   "id": "533b6006",
   "metadata": {},
   "source": [
    "Now, let's generate the input and template files"
   ]
  },
  {
   "cell_type": "code",
   "execution_count": 3,
   "id": "831677f8",
   "metadata": {},
   "outputs": [
    {
     "ename": "Exception",
     "evalue": "error reading ctrl file 'fonseca_fleming_demo\\FON_template\\fon.pst': list index out of range",
     "output_type": "error",
     "traceback": [
      "\u001b[1;31m---------------------------------------------------------------------------\u001b[0m",
      "\u001b[1;31mIndexError\u001b[0m                                Traceback (most recent call last)",
      "File \u001b[1;32mc:\\Users\\mac732\\AppData\\Local\\anaconda3\\Lib\\site-packages\\pyemu\\pst\\pst_handler.py:1038\u001b[0m, in \u001b[0;36mPst._load_version2\u001b[1;34m(self, filename)\u001b[0m\n\u001b[0;32m   1037\u001b[0m \u001b[38;5;28;01melif\u001b[39;00m \u001b[38;5;124m\"\u001b[39m\u001b[38;5;124m* parameter groups\u001b[39m\u001b[38;5;124m\"\u001b[39m \u001b[38;5;129;01min\u001b[39;00m last_section\u001b[38;5;241m.\u001b[39mlower():\n\u001b[1;32m-> 1038\u001b[0m     \u001b[38;5;28mself\u001b[39m\u001b[38;5;241m.\u001b[39mparameter_groups \u001b[38;5;241m=\u001b[39m \u001b[38;5;28mself\u001b[39m\u001b[38;5;241m.\u001b[39m_cast_df_from_lines(\n\u001b[0;32m   1039\u001b[0m         last_section,\n\u001b[0;32m   1040\u001b[0m         section_lines,\n\u001b[0;32m   1041\u001b[0m         \u001b[38;5;28mself\u001b[39m\u001b[38;5;241m.\u001b[39mpargp_fieldnames,\n\u001b[0;32m   1042\u001b[0m         \u001b[38;5;28mself\u001b[39m\u001b[38;5;241m.\u001b[39mpargp_converters,\n\u001b[0;32m   1043\u001b[0m         \u001b[38;5;28mself\u001b[39m\u001b[38;5;241m.\u001b[39mpargp_defaults,\n\u001b[0;32m   1044\u001b[0m         pst_path\u001b[38;5;241m=\u001b[39mpst_path,\n\u001b[0;32m   1045\u001b[0m     )\n\u001b[0;32m   1046\u001b[0m     \u001b[38;5;28mself\u001b[39m\u001b[38;5;241m.\u001b[39mparameter_groups\u001b[38;5;241m.\u001b[39mindex \u001b[38;5;241m=\u001b[39m \u001b[38;5;28mself\u001b[39m\u001b[38;5;241m.\u001b[39mparameter_groups\u001b[38;5;241m.\u001b[39mpargpnme\n",
      "File \u001b[1;32mc:\\Users\\mac732\\AppData\\Local\\anaconda3\\Lib\\site-packages\\pyemu\\pst\\pst_handler.py:907\u001b[0m, in \u001b[0;36mPst._cast_df_from_lines\u001b[1;34m(section, lines, fieldnames, converters, defaults, alias_map, pst_path)\u001b[0m\n\u001b[0;32m    905\u001b[0m     raw\u001b[38;5;241m.\u001b[39mappend(r[: \u001b[38;5;28mlen\u001b[39m(defaults)])\n\u001b[1;32m--> 907\u001b[0m found_fieldnames \u001b[38;5;241m=\u001b[39m fieldnames[: \u001b[38;5;28mlen\u001b[39m(raw[\u001b[38;5;241m0\u001b[39m])]\n\u001b[0;32m    908\u001b[0m df \u001b[38;5;241m=\u001b[39m pd\u001b[38;5;241m.\u001b[39mDataFrame(raw, columns\u001b[38;5;241m=\u001b[39mfound_fieldnames)\n",
      "\u001b[1;31mIndexError\u001b[0m: list index out of range",
      "\nDuring handling of the above exception, another exception occurred:\n",
      "\u001b[1;31mException\u001b[0m                                 Traceback (most recent call last)",
      "Cell \u001b[1;32mIn[3], line 3\u001b[0m\n\u001b[0;32m      1\u001b[0m sys\u001b[38;5;241m.\u001b[39mpath\u001b[38;5;241m.\u001b[39mappend(os\u001b[38;5;241m.\u001b[39mpath\u001b[38;5;241m.\u001b[39mjoin(os\u001b[38;5;241m.\u001b[39mgetcwd(), \u001b[38;5;124m\"\u001b[39m\u001b[38;5;124mfonseca_fleming_demo\u001b[39m\u001b[38;5;124m\"\u001b[39m))\n\u001b[0;32m      2\u001b[0m \u001b[38;5;28;01mfrom\u001b[39;00m \u001b[38;5;21;01mfonseca_fleming_setup\u001b[39;00m \u001b[38;5;28;01mimport\u001b[39;00m \u001b[38;5;241m*\u001b[39m\n\u001b[1;32m----> 3\u001b[0m fon_setup()\n",
      "File \u001b[1;32mc:\\Users\\mac732\\OneDrive - CSIRO\\Documents\\GitHub\\pestpp-moudev\\benchmarks\\MOO_tutorials\\fonseca_fleming_demo\\fonseca_fleming_setup.py:38\u001b[0m, in \u001b[0;36mfon_setup\u001b[1;34m()\u001b[0m\n\u001b[0;32m     36\u001b[0m     f\u001b[38;5;241m.\u001b[39mwrite(\u001b[38;5;124m\"\u001b[39m\u001b[38;5;124mfon.tpl fon.par\u001b[39m\u001b[38;5;130;01m\\n\u001b[39;00m\u001b[38;5;124m\"\u001b[39m)\n\u001b[0;32m     37\u001b[0m     f\u001b[38;5;241m.\u001b[39mwrite(\u001b[38;5;124m\"\u001b[39m\u001b[38;5;124mfon.ins fon.out\u001b[39m\u001b[38;5;130;01m\\n\u001b[39;00m\u001b[38;5;124m\"\u001b[39m)\n\u001b[1;32m---> 38\u001b[0m pst \u001b[38;5;241m=\u001b[39m pyemu\u001b[38;5;241m.\u001b[39mPst(os\u001b[38;5;241m.\u001b[39mpath\u001b[38;5;241m.\u001b[39mjoin(template_dir, \u001b[38;5;124m\"\u001b[39m\u001b[38;5;124mfon.pst\u001b[39m\u001b[38;5;124m\"\u001b[39m))\n\u001b[0;32m     40\u001b[0m pst\u001b[38;5;241m.\u001b[39mcontrol_data\u001b[38;5;241m.\u001b[39mnoptmax \u001b[38;5;241m=\u001b[39m \u001b[38;5;241m20\u001b[39m\n\u001b[0;32m     42\u001b[0m par_data \u001b[38;5;241m=\u001b[39m []\n",
      "File \u001b[1;32mc:\\Users\\mac732\\AppData\\Local\\anaconda3\\Lib\\site-packages\\pyemu\\pst\\pst_handler.py:139\u001b[0m, in \u001b[0;36mPst.__init__\u001b[1;34m(self, filename, load, resfile)\u001b[0m\n\u001b[0;32m    136\u001b[0m \u001b[38;5;28;01mif\u001b[39;00m \u001b[38;5;129;01mnot\u001b[39;00m os\u001b[38;5;241m.\u001b[39mpath\u001b[38;5;241m.\u001b[39mexists(filename):\n\u001b[0;32m    137\u001b[0m     \u001b[38;5;28;01mraise\u001b[39;00m \u001b[38;5;167;01mException\u001b[39;00m(\u001b[38;5;124m\"\u001b[39m\u001b[38;5;124mpst file not found:\u001b[39m\u001b[38;5;132;01m{0}\u001b[39;00m\u001b[38;5;124m\"\u001b[39m\u001b[38;5;241m.\u001b[39mformat(filename))\n\u001b[1;32m--> 139\u001b[0m \u001b[38;5;28mself\u001b[39m\u001b[38;5;241m.\u001b[39mload(filename)\n",
      "File \u001b[1;32mc:\\Users\\mac732\\AppData\\Local\\anaconda3\\Lib\\site-packages\\pyemu\\pst\\pst_handler.py:1272\u001b[0m, in \u001b[0;36mPst.load\u001b[1;34m(self, filename)\u001b[0m\n\u001b[0;32m   1265\u001b[0m \u001b[38;5;28;01mif\u001b[39;00m \u001b[38;5;129;01mnot\u001b[39;00m line\u001b[38;5;241m.\u001b[39mstartswith(\u001b[38;5;124m\"\u001b[39m\u001b[38;5;124mpcf\u001b[39m\u001b[38;5;124m\"\u001b[39m):\n\u001b[0;32m   1266\u001b[0m     \u001b[38;5;28;01mraise\u001b[39;00m \u001b[38;5;167;01mException\u001b[39;00m(\n\u001b[0;32m   1267\u001b[0m         \u001b[38;5;124m\"\u001b[39m\u001b[38;5;124mPst.load() error: first non-comment line must start with \u001b[39m\u001b[38;5;124m'\u001b[39m\u001b[38;5;124mpcf\u001b[39m\u001b[38;5;124m'\u001b[39m\u001b[38;5;124m, not \u001b[39m\u001b[38;5;124m'\u001b[39m\u001b[38;5;132;01m{0}\u001b[39;00m\u001b[38;5;124m'\u001b[39m\u001b[38;5;124m\"\u001b[39m\u001b[38;5;241m.\u001b[39mformat(\n\u001b[0;32m   1268\u001b[0m             line\n\u001b[0;32m   1269\u001b[0m         )\n\u001b[0;32m   1270\u001b[0m     )\n\u001b[1;32m-> 1272\u001b[0m \u001b[38;5;28mself\u001b[39m\u001b[38;5;241m.\u001b[39m_load_version2(filename)\n\u001b[0;32m   1273\u001b[0m \u001b[38;5;28mself\u001b[39m\u001b[38;5;241m.\u001b[39m_try_load_longnames()\n\u001b[0;32m   1274\u001b[0m \u001b[38;5;28mself\u001b[39m\u001b[38;5;241m.\u001b[39mtry_parse_name_metadata()\n",
      "File \u001b[1;32mc:\\Users\\mac732\\AppData\\Local\\anaconda3\\Lib\\site-packages\\pyemu\\pst\\pst_handler.py:1222\u001b[0m, in \u001b[0;36mPst._load_version2\u001b[1;34m(self, filename)\u001b[0m\n\u001b[0;32m   1220\u001b[0m \u001b[38;5;28;01mexcept\u001b[39;00m \u001b[38;5;167;01mException\u001b[39;00m \u001b[38;5;28;01mas\u001b[39;00m e:\n\u001b[0;32m   1221\u001b[0m     f\u001b[38;5;241m.\u001b[39mclose()\n\u001b[1;32m-> 1222\u001b[0m     \u001b[38;5;28;01mraise\u001b[39;00m \u001b[38;5;167;01mException\u001b[39;00m(\u001b[38;5;124m\"\u001b[39m\u001b[38;5;124merror reading ctrl file \u001b[39m\u001b[38;5;124m'\u001b[39m\u001b[38;5;132;01m{0}\u001b[39;00m\u001b[38;5;124m'\u001b[39m\u001b[38;5;124m: \u001b[39m\u001b[38;5;132;01m{1}\u001b[39;00m\u001b[38;5;124m\"\u001b[39m\u001b[38;5;241m.\u001b[39mformat(filename,\u001b[38;5;28mstr\u001b[39m(e)))\n\u001b[0;32m   1224\u001b[0m f\u001b[38;5;241m.\u001b[39mclose()\n\u001b[0;32m   1225\u001b[0m not_found \u001b[38;5;241m=\u001b[39m []\n",
      "\u001b[1;31mException\u001b[0m: error reading ctrl file 'fonseca_fleming_demo\\FON_template\\fon.pst': list index out of range"
     ]
    }
   ],
   "source": [
    "sys.path.append(os.path.join(os.getcwd(), \"fonseca_fleming_demo\"))\n",
    "from fonseca_fleming_setup import *\n",
    "fon_setup()"
   ]
  }
 ],
 "metadata": {
  "kernelspec": {
   "display_name": "base",
   "language": "python",
   "name": "python3"
  },
  "language_info": {
   "codemirror_mode": {
    "name": "ipython",
    "version": 3
   },
   "file_extension": ".py",
   "mimetype": "text/x-python",
   "name": "python",
   "nbconvert_exporter": "python",
   "pygments_lexer": "ipython3",
   "version": "3.11.4"
  }
 },
 "nbformat": 4,
 "nbformat_minor": 5
}
